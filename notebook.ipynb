{
  "nbformat": 4,
  "nbformat_minor": 0,
  "metadata": {
    "colab": {
      "name": "decipher-2-0.ipynb",
      "provenance": [],
      "collapsed_sections": []
    },
    "kernelspec": {
      "display_name": "Python 3",
      "language": "python",
      "name": "python3"
    },
    "language_info": {
      "codemirror_mode": {
        "name": "ipython",
        "version": 3
      },
      "file_extension": ".py",
      "mimetype": "text/x-python",
      "name": "python",
      "nbconvert_exporter": "python",
      "pygments_lexer": "ipython3",
      "version": "3.7.10"
    }
  },
  "cells": [
    {
      "cell_type": "code",
      "metadata": {
        "id": "VZ-W7upZu4V8"
      },
      "source": [
        "# This Python 3 environment comes with many helpful analytics libraries installed\n",
        "# It is defined by the kaggle/python Docker image: https://github.com/kaggle/docker-python\n",
        "# For example, here's several helpful packages to load\n",
        "\n",
        "import numpy as np # linear algebra\n",
        "import pandas as pd # data processing, CSV file I/O (e.g. pd.read_csv)\n",
        "\n",
        "# Input data files are available in the read-only \"../input/\" directory\n",
        "# For example, running this (by clicking run or pressing Shift+Enter) will list all files under the input directory\n",
        "import json\n",
        "import os\n",
        "\n",
        "# You can write up to 20GB to the current directory (/kaggle/working/) that gets preserved as output when you create a version using \"Save & Run All\" \n",
        "# You can also write temporary files to /kaggle/temp/, but they won't be saved outside of the current session"
      ],
      "execution_count": null,
      "outputs": []
    },
    {
      "cell_type": "code",
      "metadata": {
        "colab": {
          "base_uri": "https://localhost:8080/"
        },
        "id": "F7_PIFoQu_Ml",
        "outputId": "81b70db2-0ea0-4e82-cd66-45c6e16d2ae2"
      },
      "source": [
        "from google.colab import drive\n",
        "drive.mount('/content/drive')"
      ],
      "execution_count": null,
      "outputs": [
        {
          "output_type": "stream",
          "name": "stdout",
          "text": [
            "Mounted at /content/drive\n"
          ]
        }
      ]
    },
    {
      "cell_type": "code",
      "metadata": {
        "id": "wMVgfTV8u4WS"
      },
      "source": [
        "students=open('/content/drive/MyDrive/contest_data/students.json',)\n",
        "students_data = json.load(students)"
      ],
      "execution_count": null,
      "outputs": []
    },
    {
      "cell_type": "code",
      "metadata": {
        "colab": {
          "base_uri": "https://localhost:8080/"
        },
        "id": "1xZ9zZERu4WV",
        "outputId": "11bb1f6f-83c5-4d15-c114-c84fd014afd2"
      },
      "source": [
        "print(students_data[0:1])\n",
        "print('----------------------------------------------------------------------------')\n",
        "print(students_data[0]['targets'])\n",
        "print('----------------------------------------------------------------------------')\n",
        "print(students_data[0]['target_super_groups'])\n",
        "print('----------------------------------------------------------------------------')\n",
        "print(len(students_data))"
      ],
      "execution_count": null,
      "outputs": [
        {
          "output_type": "stream",
          "name": "stdout",
          "text": [
            "[{'sid': '6e6dabfe6d4eaa2d15b4672e0d0fad5a', 'targets': [{'_id': '7a5d8c4c00f5f6340f28ba4b49e519ba', 'title': [{'language': 'English', 'value': 'GATE ME'}, {'language': 'Hindi', 'value': ''}], 'updatedOn': '2020-09-10T14:44:25.158+05:30'}], 'target_super_groups': [{'_id': 'c1d47cdfe41a7ea2c337dd54c5114168', 'title': [{'language': 'English', 'value': 'Engineering Recruitment Exams'}, {'language': 'Hindi', 'value': ''}], 'updatedOn': '2020-09-10T14:44:22.585+05:30'}]}]\n",
            "----------------------------------------------------------------------------\n",
            "[{'_id': '7a5d8c4c00f5f6340f28ba4b49e519ba', 'title': [{'language': 'English', 'value': 'GATE ME'}, {'language': 'Hindi', 'value': ''}], 'updatedOn': '2020-09-10T14:44:25.158+05:30'}]\n",
            "----------------------------------------------------------------------------\n",
            "[{'_id': 'c1d47cdfe41a7ea2c337dd54c5114168', 'title': [{'language': 'English', 'value': 'Engineering Recruitment Exams'}, {'language': 'Hindi', 'value': ''}], 'updatedOn': '2020-09-10T14:44:22.585+05:30'}]\n",
            "----------------------------------------------------------------------------\n",
            "10000\n"
          ]
        }
      ]
    },
    {
      "cell_type": "code",
      "metadata": {
        "id": "ebDEZTLcu4WY"
      },
      "source": [
        ""
      ],
      "execution_count": null,
      "outputs": []
    },
    {
      "cell_type": "code",
      "metadata": {
        "id": "iMeV2AMdu4Wa"
      },
      "source": [
        "tgt_grp={}\n",
        "tgt_sgp={}\n",
        "for std in range(len(students_data)):\n",
        "    if students_data[std]['targets']:\n",
        "        try:\n",
        "            for i in students_data[std]['targets']:\n",
        "                if i['_id'] in tgt_grp:\n",
        "                    if tgt_grp[i['_id']]!=i['title']:\n",
        "                        print('found mismatch')\n",
        "                tgt_grp[i['_id']]=i['title']\n",
        "        except:\n",
        "            print('error')\n",
        "            print(students_data[std]['targets'],std)\n",
        "    if students_data[std]['target_super_groups']:\n",
        "        try:\n",
        "            for i in students_data[std]['target_super_groups']:\n",
        "                if i['_id'] in tgt_sgp:\n",
        "                    if tgt_sgp[i['_id']]!=i['title']:\n",
        "                        print('found mismatch')\n",
        "                tgt_sgp[i['_id']]=i['title']\n",
        "        except:\n",
        "            print('error')\n",
        "            print(students_data[std]['targets'],std)\n",
        "    \n",
        "    "
      ],
      "execution_count": null,
      "outputs": []
    },
    {
      "cell_type": "code",
      "metadata": {
        "colab": {
          "base_uri": "https://localhost:8080/"
        },
        "id": "9Su5eRKmu4Wd",
        "outputId": "75238f93-f721-48aa-e35f-7a66c78dd771"
      },
      "source": [
        "print(len(tgt_grp))\n",
        "print(len(tgt_sgp))"
      ],
      "execution_count": null,
      "outputs": [
        {
          "output_type": "stream",
          "name": "stdout",
          "text": [
            "218\n",
            "11\n"
          ]
        }
      ]
    },
    {
      "cell_type": "code",
      "metadata": {
        "colab": {
          "base_uri": "https://localhost:8080/"
        },
        "id": "Uk87QzAFu4Wj",
        "outputId": "37955423-32f5-435e-d9df-25f5b0bd4f53"
      },
      "source": [
        "t=0\n",
        "for i in tgt_grp.keys():\n",
        "    print(i)\n",
        "    print(tgt_grp[i])\n",
        "    if t>5:\n",
        "        break\n",
        "    t+=1"
      ],
      "execution_count": null,
      "outputs": [
        {
          "output_type": "stream",
          "name": "stdout",
          "text": [
            "7a5d8c4c00f5f6340f28ba4b49e519ba\n",
            "[{'language': 'English', 'value': 'GATE ME'}, {'language': 'Hindi', 'value': ''}]\n",
            "b81a8991dd18c0b47f6bc16c47dfa0ae\n",
            "[{'language': 'English', 'value': 'SSC CGL'}, {'language': 'Hindi', 'value': ''}]\n",
            "b5dc7859e29e978c0c93d8592dd2a3c0\n",
            "[{'language': 'English', 'value': 'SSC CHSL'}, {'language': 'Hindi', 'value': ''}]\n",
            "8dce41b95f3777d43d7ac6259bf1c39a\n",
            "[{'language': 'English', 'value': 'IBPS PO'}, {'language': 'Hindi', 'value': ''}]\n",
            "267449cef6a69ddba57803a44daea1fa\n",
            "[{'language': 'English', 'value': 'RRB Officer Scale - I'}, {'language': 'Hindi', 'value': ''}]\n",
            "a4b3f38ba5a80bc0ccb9d7e2be728229\n",
            "[{'language': 'English', 'value': 'SBI PO'}, {'language': 'Hindi', 'value': ''}]\n",
            "92b100d434c9b9ec738a681c68ee52b5\n",
            "[{'language': 'English', 'value': 'RPSF'}, {'language': 'Hindi', 'value': ''}]\n"
          ]
        }
      ]
    },
    {
      "cell_type": "code",
      "metadata": {
        "colab": {
          "base_uri": "https://localhost:8080/"
        },
        "id": "Lmdn7IYUu4Wn",
        "outputId": "00db9b43-425d-4f4f-e9a5-c8eb43f5dd33"
      },
      "source": [
        "t=0\n",
        "for i in tgt_sgp.keys():\n",
        "    print(i)\n",
        "    print(tgt_sgp[i])\n",
        "    if t>5:\n",
        "        break\n",
        "    t+=1"
      ],
      "execution_count": null,
      "outputs": [
        {
          "output_type": "stream",
          "name": "stdout",
          "text": [
            "c1d47cdfe41a7ea2c337dd54c5114168\n",
            "[{'language': 'English', 'value': 'Engineering Recruitment Exams'}, {'language': 'Hindi', 'value': ''}]\n",
            "4db3fc331f6c3cc1afcd4cb6938db9d0\n",
            "[{'language': 'English', 'value': 'Banking Exams'}, {'language': 'Hindi', 'value': ''}]\n",
            "e992109a17e84f458f34c1b888c23205\n",
            "[{'language': 'English', 'value': 'SSC Exams'}, {'language': 'Hindi', 'value': ''}]\n",
            "67bcbee6ffd1bf148fc2fb934d55f07e\n",
            "[{'language': 'English', 'value': 'Railways Exams'}, {'language': 'Hindi', 'value': ''}]\n",
            "b4079255a4b812351b0a98cc4f5ad675\n",
            "[{'language': 'English', 'value': 'Police Exams'}, {'language': 'Hindi', 'value': ''}]\n",
            "09b12737a8cd173b05e9d16e456e8560\n",
            "[{'language': 'English', 'value': 'Professional Skills'}, {'language': 'Hindi', 'value': 'व्यावसायिक कौशल'}]\n",
            "58299138e624a0b7a8c85b7ae0c51a1f\n",
            "[{'language': 'English', 'value': 'Defence Exams'}, {'language': 'Hindi', 'value': ''}]\n"
          ]
        }
      ]
    },
    {
      "cell_type": "code",
      "metadata": {
        "colab": {
          "base_uri": "https://localhost:8080/"
        },
        "id": "FLl8p-k-u4Wq",
        "outputId": "a7e43157-8d4a-465b-bbc5-18ed6805db3f"
      },
      "source": [
        "tgt_gp_sgp=[]\n",
        "for i in tgt_grp.keys():\n",
        "    tgt_gp_sgp.append(i)\n",
        "for i in tgt_sgp.keys():\n",
        "    tgt_gp_sgp.append(i)\n",
        "tgt_gp_sgp.sort()\n",
        "len(tgt_gp_sgp)"
      ],
      "execution_count": null,
      "outputs": [
        {
          "output_type": "execute_result",
          "data": {
            "text/plain": [
              "229"
            ]
          },
          "metadata": {},
          "execution_count": 9
        }
      ]
    },
    {
      "cell_type": "code",
      "metadata": {
        "colab": {
          "base_uri": "https://localhost:8080/"
        },
        "id": "aOr2eussu4Wt",
        "outputId": "54e5300e-6c50-4235-bfbd-dd5a9ec14011"
      },
      "source": [
        "tests = open('/content/drive/MyDrive/contest_data/tests_details.json',)\n",
        "tests_details = json.load(tests)\n",
        "print(len(tests_details))\n",
        "print(tests_details[:5])"
      ],
      "execution_count": null,
      "outputs": [
        {
          "output_type": "stream",
          "name": "stdout",
          "text": [
            "876\n",
            "[{'test_id': 'b4ca204631b17b6b486c361872fd2af2', 'target': [{'_id': 'ce93e65e281ffed2347769d363c25b70', 'title': [{'language': 'English', 'value': 'RRB NTPC'}], 'isPrimary': True}], 'target_super_group': None}, {'test_id': 'b25b5a4ec5c9ed9cbf8c1b2dbce2e5ec', 'target': None, 'target_super_group': None}, {'test_id': '4f6de001762ca3cb6546de31962ad917', 'target': None, 'target_super_group': None}, {'test_id': 'a5509829b0acbc147323aaf75e8ea73e', 'target': [{'_id': '774732a9be9cd1f7681f7eb699d3bdf8', 'title': [{'language': 'English', 'value': 'TCS'}], 'isPrimary': True}], 'target_super_group': None}, {'test_id': '7bcbc0211f63141908bd2f0bb44d1bdd', 'target': [{'_id': '6ac844c11e30c46f4b9583c85653d610', 'title': [{'language': 'English', 'value': 'L&T'}], 'isPrimary': True}], 'target_super_group': None}]\n"
          ]
        }
      ]
    },
    {
      "cell_type": "code",
      "metadata": {
        "colab": {
          "base_uri": "https://localhost:8080/"
        },
        "id": "hPjfs_x1u4Wy",
        "outputId": "8a2a3a36-86c9-4cd5-c631-1850eeed9e49"
      },
      "source": [
        "for test in tests_details[:5]:\n",
        "    print('test_id')\n",
        "    print(test['test_id'])\n",
        "    print('target')\n",
        "    print(test['target'])\n",
        "    print('target_super_group')\n",
        "    print(test['target_super_group'])\n",
        "    print('---------------------------------------------------------------------------')"
      ],
      "execution_count": null,
      "outputs": [
        {
          "output_type": "stream",
          "name": "stdout",
          "text": [
            "test_id\n",
            "b4ca204631b17b6b486c361872fd2af2\n",
            "target\n",
            "[{'_id': 'ce93e65e281ffed2347769d363c25b70', 'title': [{'language': 'English', 'value': 'RRB NTPC'}], 'isPrimary': True}]\n",
            "target_super_group\n",
            "None\n",
            "---------------------------------------------------------------------------\n",
            "test_id\n",
            "b25b5a4ec5c9ed9cbf8c1b2dbce2e5ec\n",
            "target\n",
            "None\n",
            "target_super_group\n",
            "None\n",
            "---------------------------------------------------------------------------\n",
            "test_id\n",
            "4f6de001762ca3cb6546de31962ad917\n",
            "target\n",
            "None\n",
            "target_super_group\n",
            "None\n",
            "---------------------------------------------------------------------------\n",
            "test_id\n",
            "a5509829b0acbc147323aaf75e8ea73e\n",
            "target\n",
            "[{'_id': '774732a9be9cd1f7681f7eb699d3bdf8', 'title': [{'language': 'English', 'value': 'TCS'}], 'isPrimary': True}]\n",
            "target_super_group\n",
            "None\n",
            "---------------------------------------------------------------------------\n",
            "test_id\n",
            "7bcbc0211f63141908bd2f0bb44d1bdd\n",
            "target\n",
            "[{'_id': '6ac844c11e30c46f4b9583c85653d610', 'title': [{'language': 'English', 'value': 'L&T'}], 'isPrimary': True}]\n",
            "target_super_group\n",
            "None\n",
            "---------------------------------------------------------------------------\n"
          ]
        }
      ]
    },
    {
      "cell_type": "code",
      "metadata": {
        "colab": {
          "base_uri": "https://localhost:8080/"
        },
        "id": "_jgB6BE5u4W2",
        "outputId": "b23a29be-462b-45d4-cde4-ca30dedbcd18"
      },
      "source": [
        "course_enrollments= open('/content/drive/MyDrive/contest_data/course_enrollments.json',)\n",
        "\n",
        "course = json.load(course_enrollments)\n",
        "print(len(course))\n",
        "course[:10]"
      ],
      "execution_count": null,
      "outputs": [
        {
          "output_type": "stream",
          "name": "stdout",
          "text": [
            "10000\n"
          ]
        },
        {
          "output_type": "execute_result",
          "data": {
            "text/plain": [
              "[{'enrolled_courses': ['c64ca44849ae86093254a01b5748466f'],\n",
              "  'studentIds': '6e6dabfe6d4eaa2d15b4672e0d0fad5a'},\n",
              " {'enrolled_courses': ['c64ca44849ae86093254a01b5748466f'],\n",
              "  'studentIds': 'a4839004275f9f0583a20f03a8b759c3'},\n",
              " {'enrolled_courses': ['c64ca44849ae86093254a01b5748466f'],\n",
              "  'studentIds': 'bd73581ef03a1f15f24a7d2c7b573792'},\n",
              " {'enrolled_courses': ['c64ca44849ae86093254a01b5748466f'],\n",
              "  'studentIds': '7a3595d03ba05f3778ade4e0881be40f'},\n",
              " {'enrolled_courses': ['e2e15f7b9ea0df0fbab2d5c6929a894e',\n",
              "   'c64ca44849ae86093254a01b5748466f'],\n",
              "  'studentIds': 'ee2dce155a659d3b6594479d228e98b8'},\n",
              " {'enrolled_courses': ['c64ca44849ae86093254a01b5748466f'],\n",
              "  'studentIds': '7a86b26e3aa2d8de01752db4691b1777'},\n",
              " {'enrolled_courses': ['c64ca44849ae86093254a01b5748466f'],\n",
              "  'studentIds': 'b1857a4ed7b82eb0208bcdc251dc87d3'},\n",
              " {'enrolled_courses': None, 'studentIds': 'e4b58b515ef2b64805258a375f6931c6'},\n",
              " {'enrolled_courses': ['c64ca44849ae86093254a01b5748466f'],\n",
              "  'studentIds': 'ffe7c33ba8e1873d96407a56140b1299'},\n",
              " {'enrolled_courses': ['c64ca44849ae86093254a01b5748466f'],\n",
              "  'studentIds': 'b79e8439cffb431fc35a887c264650a2'}]"
            ]
          },
          "metadata": {},
          "execution_count": 12
        }
      ]
    },
    {
      "cell_type": "code",
      "metadata": {
        "colab": {
          "base_uri": "https://localhost:8080/"
        },
        "id": "TIFTCvYTu4W5",
        "outputId": "157863ff-e01b-4b0f-fe65-9d26d0785314"
      },
      "source": [
        "import collections\n",
        "x=set()\n",
        "t=0\n",
        "#waste of time\n",
        "std_to_crs=collections.defaultdict(list)\n",
        "for i in course:\n",
        "    if i['enrolled_courses'] is not None and len(i['enrolled_courses'])>0 and i['studentIds']:\n",
        "      for j in i['enrolled_courses']:\n",
        "        std_to_crs[i['studentIds']].append(j)\n",
        "      t+=1\n",
        "print(t)\n"
      ],
      "execution_count": null,
      "outputs": [
        {
          "output_type": "stream",
          "name": "stdout",
          "text": [
            "198\n"
          ]
        }
      ]
    },
    {
      "cell_type": "code",
      "source": [
        ""
      ],
      "metadata": {
        "id": "-4xj0KJmih8q"
      },
      "execution_count": null,
      "outputs": []
    },
    {
      "cell_type": "code",
      "metadata": {
        "colab": {
          "base_uri": "https://localhost:8080/"
        },
        "id": "Prjgq45su4W7",
        "outputId": "dfaca7be-f670-4949-c2be-6dd3622669e3"
      },
      "source": [
        "class_details = open('/content/drive/MyDrive/contest_data/class_details.json',)\n",
        "class_data = json.load(class_details)\n",
        "print(len(class_data))\n",
        "class_data[:2]"
      ],
      "execution_count": null,
      "outputs": [
        {
          "output_type": "stream",
          "name": "stdout",
          "text": [
            "90\n"
          ]
        },
        {
          "output_type": "execute_result",
          "data": {
            "text/plain": [
              "[{'class_id': '9a5896f9ff163fe54390aa23e9a05c46',\n",
              "  'target': [{'_id': 'b81a8991dd18c0b47f6bc16c47dfa0ae',\n",
              "    'title': [{'language': 'English', 'value': 'SSC CGL'}]},\n",
              "   {'_id': 'ce93e65e281ffed2347769d363c25b70',\n",
              "    'title': [{'language': 'English', 'value': 'RRB NTPC'}]},\n",
              "   {'_id': 'dc1fde03ccd13f16973f5360cb63f479',\n",
              "    'title': [{'language': 'English', 'value': 'LIC AAO'},\n",
              "     {'language': 'Hindi', 'value': ''}]},\n",
              "   {'_id': 'a4b3f38ba5a80bc0ccb9d7e2be728229',\n",
              "    'isPrimary': True,\n",
              "    'title': [{'language': 'English', 'value': 'SBI PO'}]},\n",
              "   {'_id': '21cde520a11aea91d3b0c222ee9f52a4',\n",
              "    'title': [{'language': 'English', 'value': 'SBI Clerk'},\n",
              "     {'language': 'Hindi', 'value': ''}]}],\n",
              "  'target_super_group': [{'_id': '4db3fc331f6c3cc1afcd4cb6938db9d0',\n",
              "    'isPrimary': True,\n",
              "    'title': [{'language': 'English', 'value': 'Banking Exams'},\n",
              "     {'language': 'Hindi', 'value': ''}]},\n",
              "   {'_id': 'e992109a17e84f458f34c1b888c23205',\n",
              "    'title': [{'language': 'English', 'value': 'SSC Exams'},\n",
              "     {'language': 'Hindi', 'value': ''}]}]},\n",
              " {'class_id': '80714763e74d90914b3251a00a9a1b85',\n",
              "  'target': [{'_id': '21cde520a11aea91d3b0c222ee9f52a4',\n",
              "    'title': [{'language': 'English', 'value': 'SBI Clerk'},\n",
              "     {'language': 'Hindi', 'value': ''}]},\n",
              "   {'_id': 'a4b3f38ba5a80bc0ccb9d7e2be728229',\n",
              "    'isPrimary': True,\n",
              "    'title': [{'language': 'English', 'value': 'SBI PO'},\n",
              "     {'language': 'Hindi', 'value': ''}]},\n",
              "   {'_id': '8dce41b95f3777d43d7ac6259bf1c39a',\n",
              "    'title': [{'language': 'English', 'value': 'IBPS PO'},\n",
              "     {'language': 'Hindi', 'value': ''}]},\n",
              "   {'_id': '481abd1205b8a03a63984864cd9419bb',\n",
              "    'title': [{'language': 'English', 'value': 'IBPS Clerk'},\n",
              "     {'language': 'Hindi', 'value': ''}]},\n",
              "   {'_id': '4fe9e0b9fb1bf8863faf1627ec4393bf',\n",
              "    'title': [{'language': 'English', 'value': 'IBPS SO'},\n",
              "     {'language': 'Hindi', 'value': ''}]},\n",
              "   {'_id': '267449cef6a69ddba57803a44daea1fa',\n",
              "    'title': [{'language': 'English', 'value': 'RRB Officer Scale - I'},\n",
              "     {'language': 'Hindi', 'value': ''}]},\n",
              "   {'_id': '5e85dcf35732f4a71776033551e00ca4',\n",
              "    'title': [{'language': 'English', 'value': 'RRB Office Assistant'},\n",
              "     {'language': 'Hindi', 'value': ''}]}],\n",
              "  'target_super_group': [{'_id': '4db3fc331f6c3cc1afcd4cb6938db9d0',\n",
              "    'isPrimary': True,\n",
              "    'title': [{'language': 'English', 'value': 'Banking Exams'},\n",
              "     {'language': 'Hindi', 'value': ''}]}]}]"
            ]
          },
          "metadata": {},
          "execution_count": 14
        }
      ]
    },
    {
      "cell_type": "code",
      "metadata": {
        "colab": {
          "base_uri": "https://localhost:8080/"
        },
        "id": "UKaxnu1Vu4W9",
        "outputId": "a9e15614-27c3-4361-b584-5b20d67e4044"
      },
      "source": [
        "test_submissions = open('/content/drive/MyDrive/contest_data/test_submissions.json',)\n",
        "test_submissions_data = json.load(test_submissions)\n",
        "print(len(test_submissions_data))\n",
        "test_submissions_data[:2]"
      ],
      "execution_count": null,
      "outputs": [
        {
          "output_type": "stream",
          "name": "stdout",
          "text": [
            "3589\n"
          ]
        },
        {
          "output_type": "execute_result",
          "data": {
            "text/plain": [
              "[{'correct': 0,\n",
              "  'created_on': '0001-01-01T00:00:00Z',\n",
              "  'marks': -1.5,\n",
              "  'partial': 0,\n",
              "  'skipped': 4,\n",
              "  'studentId': '15124e459c173f28a53b4863fdb8f6b3',\n",
              "  'testId': 'dcf403b70447d14bdfc2a922452abddd',\n",
              "  'time_taken': 21,\n",
              "  'total_answered': 6,\n",
              "  'wrong': 6},\n",
              " {'correct': 2,\n",
              "  'created_on': '0001-01-01T00:00:00Z',\n",
              "  'marks': 0.5,\n",
              "  'partial': 0,\n",
              "  'skipped': 2,\n",
              "  'studentId': '15124e459c173f28a53b4863fdb8f6b3',\n",
              "  'testId': 'a82e3ddc77d28b3ef773e1228dd13d12',\n",
              "  'time_taken': 11,\n",
              "  'total_answered': 8,\n",
              "  'wrong': 6}]"
            ]
          },
          "metadata": {},
          "execution_count": 15
        }
      ]
    },
    {
      "cell_type": "code",
      "metadata": {
        "colab": {
          "base_uri": "https://localhost:8080/"
        },
        "id": "jm1Ryqtku4XB",
        "outputId": "28e770a4-e5c5-4ba7-9b7a-11a985020c53"
      },
      "source": [
        "std_lst=sorted([dic['studentIds'] for dic in course])\n",
        "print(len(std_lst))\n",
        "print(std_lst[:10])\n",
        "dic_std_lst={std_lst[x]:x for x in range(len(std_lst))}\n",
        "r_dic_std_lst={x:std_lst[x] for x in range(len(std_lst))}"
      ],
      "execution_count": null,
      "outputs": [
        {
          "output_type": "stream",
          "name": "stdout",
          "text": [
            "10000\n",
            "['0002d217de5e59b813099b6090b0f010', '000f31b02ff30a55a5e7078425303b42', '001ae06a6915feb381dab9146e084d27', '001fb124340c4f8b1a0d9fe9999a05d4', '00211f0b3874e1a24e0a683f5d2517ba', '002a8ed66e7def344b9d3c2b244a03d8', '00323b1c48040e934c5574f6d1ad8478', '0035d5b43209532f0c93b7dc0d097c6d', '00397d5c882d25b257456f41851df8f5', '003cf4812e6f2dc942bef8c93c6fce31']\n"
          ]
        }
      ]
    },
    {
      "cell_type": "code",
      "metadata": {
        "colab": {
          "base_uri": "https://localhost:8080/"
        },
        "id": "z4Wb4YVeu4XE",
        "outputId": "fa54ce3c-14c5-494b-c9ba-94ceb3fd1221"
      },
      "source": [
        "cls_lst=sorted([dic['class_id'] for dic in class_data])\n",
        "print(len(cls_lst))\n",
        "print(cls_lst[:10])\n",
        "dic_cls_lst={cls_lst[x]:x for x in range(len(cls_lst))}\n",
        "r_dic_cls_lst={x:cls_lst[x] for x in range(len(cls_lst))}"
      ],
      "execution_count": null,
      "outputs": [
        {
          "output_type": "stream",
          "name": "stdout",
          "text": [
            "90\n",
            "['00ab07631696c897dfa6f037e1986ec5', '03afc06d8f78b0f3f3a83bfdc6521f84', '0db2e72c48b89cdaa961666fcc20d5d8', '109052ee3f95106624c4c3ac5f144b05', '1597ef0af258665c339f498dd3760a79', '174550f1c2ad4247ba925b8996c66a44', '1c99307a403f736ead59585c1d100302', '248fa73a6000ab4bc59ac1aba167dafc', '288c8641d88102a6666b58dd03f4452d', '291f1a82bd52d4ce5147d6b2d5d19590']\n"
          ]
        }
      ]
    },
    {
      "cell_type": "code",
      "metadata": {
        "id": "TX4PqPz6u4XG"
      },
      "source": [
        "dic_tgt_gp_sgp={tgt_gp_sgp[x]:x for x in range(len(tgt_gp_sgp))}\n",
        "r_dic_tgt_gp_sgp={x:tgt_gp_sgp[x] for x in range(len(tgt_gp_sgp))}"
      ],
      "execution_count": null,
      "outputs": []
    },
    {
      "cell_type": "code",
      "metadata": {
        "colab": {
          "base_uri": "https://localhost:8080/"
        },
        "id": "FNNPpYk68iOZ",
        "outputId": "5bf570c2-6de2-4410-ae19-86dd9a96a6ed"
      },
      "source": [
        "len(cls_lst)"
      ],
      "execution_count": null,
      "outputs": [
        {
          "output_type": "execute_result",
          "data": {
            "text/plain": [
              "90"
            ]
          },
          "metadata": {},
          "execution_count": 19
        }
      ]
    },
    {
      "cell_type": "code",
      "metadata": {
        "id": "9fbs006-u4XI"
      },
      "source": [
        "crs=[]\n",
        "for i in range(len(cls_lst)):\n",
        "    x=[0]*len(tgt_gp_sgp)\n",
        "    for j in class_data:\n",
        "        if j['class_id']==cls_lst[i]:\n",
        "            try:\n",
        "                for tgt in j['target']:\n",
        "                    x[dic_tgt_gp_sgp[tgt['_id']]]=1\n",
        "            except:\n",
        "                None\n",
        "            try:\n",
        "                for tgt in j['target_super_group']:\n",
        "                    x[dic_tgt_gp_sgp[tgt['_id']]]=1\n",
        "            except:\n",
        "                None\n",
        "            break\n",
        "    crs.append(x)\n",
        "    "
      ],
      "execution_count": null,
      "outputs": []
    },
    {
      "cell_type": "code",
      "metadata": {
        "id": "uHP9rpXsu4XM"
      },
      "source": [
        "course_ftr=np.asarray(crs)"
      ],
      "execution_count": null,
      "outputs": []
    },
    {
      "cell_type": "code",
      "metadata": {
        "id": "e0StmWz-u4XO"
      },
      "source": [
        "# for i in crs:\n",
        "#     print(i.count(1))"
      ],
      "execution_count": null,
      "outputs": []
    },
    {
      "cell_type": "code",
      "metadata": {
        "colab": {
          "base_uri": "https://localhost:8080/"
        },
        "id": "mjteryV-u4XP",
        "outputId": "8181d68b-8de8-4578-ac55-8c80f80b2689"
      },
      "source": [
        "course_ftr.shape"
      ],
      "execution_count": null,
      "outputs": [
        {
          "output_type": "execute_result",
          "data": {
            "text/plain": [
              "(90, 229)"
            ]
          },
          "metadata": {},
          "execution_count": 23
        }
      ]
    },
    {
      "cell_type": "code",
      "metadata": {
        "colab": {
          "base_uri": "https://localhost:8080/"
        },
        "id": "ma8Py4XEdH5d",
        "outputId": "34e4f785-7297-4978-c3b3-798b4ee74c65"
      },
      "source": [
        "test_lst=sorted([dic['test_id'] for dic in tests_details])\n",
        "print(len(test_lst))\n",
        "print(test_lst[:10])\n",
        "dic_test_lst={test_lst[x]:x for x in range(len(test_lst))}\n",
        "r_dic_test_lst={x:test_lst[x] for x in range(len(test_lst))}\n",
        "print(len(set(test_lst)))"
      ],
      "execution_count": null,
      "outputs": [
        {
          "output_type": "stream",
          "name": "stdout",
          "text": [
            "876\n",
            "['00e5c7fcb47b54ec0953a79813e5e4e4', '00fcb6c1487e43524db336cd77e8b4d2', '0113c7e185af28444c4d5db5d3704b66', '011d16ca66e0f69abe75bc85f6cc1678', '011ec2dd6c8330274ea9adcb42e32400', '015b7417495ab2bab6cb5b4bedfdcd8d', '016d99ccccf5ada6969db202dc39c76a', '024ed8cef031c78205b00a9180da233e', '0267ccc0fddb0ba38b74924e51a44d18', '02ba4a38bdf4622a72201a6e4caf9f77']\n",
            "876\n"
          ]
        }
      ]
    },
    {
      "cell_type": "code",
      "metadata": {
        "id": "1PBr08YQeGmh"
      },
      "source": [
        "tst=[]\n",
        "for i in range(len(test_lst)):\n",
        "    x=[0]*len(tgt_gp_sgp)\n",
        "    for j in tests_details:\n",
        "        if j['test_id']==test_lst[i]:\n",
        "            try:\n",
        "                for tgt in j['target']:\n",
        "                    x[dic_tgt_gp_sgp[tgt['_id']]]=1\n",
        "            except:\n",
        "                None\n",
        "            try:\n",
        "                for tgt in j['target_super_group']:\n",
        "                    x[dic_tgt_gp_sgp[tgt['_id']]]=1\n",
        "            except:\n",
        "                None\n",
        "            break\n",
        "    tst.append(x)\n",
        "    "
      ],
      "execution_count": null,
      "outputs": []
    },
    {
      "cell_type": "code",
      "metadata": {
        "colab": {
          "base_uri": "https://localhost:8080/"
        },
        "id": "FGCVfxW6fGKr",
        "outputId": "c476c985-5df9-40d1-bf78-b30b2c81b7f4"
      },
      "source": [
        "np.asarray(tst).shape"
      ],
      "execution_count": null,
      "outputs": [
        {
          "output_type": "execute_result",
          "data": {
            "text/plain": [
              "(876, 229)"
            ]
          },
          "metadata": {},
          "execution_count": 26
        }
      ]
    },
    {
      "cell_type": "code",
      "metadata": {
        "id": "JFL3wMdNu4XT"
      },
      "source": [
        "import sklearn\n",
        "from sklearn.decomposition import PCA\n",
        "\n",
        "# intialize pca and logistic regression model\n",
        "pca = PCA(n_components=2)\n",
        "crs_mat = pca.fit_transform(course_ftr)"
      ],
      "execution_count": null,
      "outputs": []
    },
    {
      "cell_type": "code",
      "metadata": {
        "colab": {
          "base_uri": "https://localhost:8080/"
        },
        "id": "Yz7759kCu4XV",
        "outputId": "c78ca158-8d15-40a8-bd89-72b4b8b65f4e"
      },
      "source": [
        "crs_mat.shape"
      ],
      "execution_count": null,
      "outputs": [
        {
          "output_type": "execute_result",
          "data": {
            "text/plain": [
              "(90, 2)"
            ]
          },
          "metadata": {},
          "execution_count": 30
        }
      ]
    },
    {
      "cell_type": "code",
      "metadata": {
        "colab": {
          "base_uri": "https://localhost:8080/"
        },
        "id": "FFTMK4enu4XW",
        "outputId": "99aa00f4-76d1-4894-f19f-21940a576c69"
      },
      "source": [
        "usr=[[0]*len(tgt_gp_sgp) for _ in range(len(students_data))]\n",
        "for i in students_data:\n",
        "    try:\n",
        "        for j in i['targets']:\n",
        "            usr[dic_std_lst[i['sid']]][dic_tgt_gp_sgp[j['_id']]]=1\n",
        "    except:\n",
        "        None\n",
        "    \n",
        "    try:\n",
        "        for j in i['target_super_groups']:\n",
        "            usr[dic_std_lst[i['sid']]][dic_tgt_gp_sgp[j['_id']]]=1\n",
        "    except:\n",
        "        None\n",
        "usr=np.asarray(usr)\n",
        "usr.shape"
      ],
      "execution_count": null,
      "outputs": [
        {
          "output_type": "execute_result",
          "data": {
            "text/plain": [
              "(10000, 229)"
            ]
          },
          "metadata": {},
          "execution_count": 31
        }
      ]
    },
    {
      "cell_type": "code",
      "metadata": {
        "id": "WVIayj3fu4XY"
      },
      "source": [
        "import sklearn\n",
        "from sklearn.decomposition import PCA"
      ],
      "execution_count": null,
      "outputs": []
    },
    {
      "cell_type": "code",
      "metadata": {
        "id": "tyOZg8rK3x-U"
      },
      "source": [
        "user_course_matrix=[[0]*len(class_data) for _ in range(len(students_data))]\n",
        "for i in course:\n",
        "    try:\n",
        "        for j in i['enrolled_courses']:\n",
        "            user_course_matrix[dic_std_lst[i['studentIds']]][dic_cls_lst[j]]=1\n",
        "    except:\n",
        "        None\n",
        "    "
      ],
      "execution_count": null,
      "outputs": []
    },
    {
      "cell_type": "code",
      "metadata": {
        "colab": {
          "base_uri": "https://localhost:8080/"
        },
        "id": "DVADwU2T35p1",
        "outputId": "a4dca7fc-1d2f-4c11-eaca-d72a9427b0c7"
      },
      "source": [
        "user_test_matrix=[[0]*len(test_lst) for _ in range(len(students_data))]\n",
        "z=0\n",
        "for i in test_submissions_data:\n",
        "    # try:\n",
        "    if i['testId'] not in dic_test_lst:\n",
        "      print(i['testId'],z)\n",
        "    else:\n",
        "      user_test_matrix[dic_std_lst[i['studentId']]][dic_test_lst[i['testId']]]=1\n",
        "      z+=1\n",
        "    # except:\n",
        "    #     None\n",
        "  # 'studentId': '15124e459c173f28a53b4863fdb8f6b3',\n",
        "  # 'testId': 'dcf403b70447d14bdfc2a922452abddd',\n",
        "print(z)"
      ],
      "execution_count": null,
      "outputs": [
        {
          "output_type": "stream",
          "name": "stdout",
          "text": [
            "ed9e4410d6d48b0cb03c7fa51c001933 42\n",
            "3588\n"
          ]
        }
      ]
    },
    {
      "cell_type": "code",
      "metadata": {
        "id": "TnjPSsC9u4Xa"
      },
      "source": [
        "class matrix_factorisation():\n",
        "    def __init__(self,data,data_copy,features,ftr):\n",
        "        self.data=data.astype(float)\n",
        "        self.data_copy=data_copy.astype(float)\n",
        "        self.features=features\n",
        "        self.user_count=data.shape[0]\n",
        "        self.item_count=data.shape[1]\n",
        "#         self.user_features=np.random.uniform(low=0,high=1,size=(self.user_count,self.features))\n",
        "#         self.item_features=np.random.uniform(low=0,high=1,size=(self.features,self.item_count))\n",
        "        if features==229:\n",
        "          # self.user_features=usr.astype(float)\n",
        "          self.user_features = np.load('/content/drive/MyDrive/user_features_test7.npy')\n",
        "        else:\n",
        "          pca = PCA(n_components=features)\n",
        "          self.user_features = pca.fit_transform(usr).astype(float)\n",
        "        # self.user_features = np.load('/content/drive/MyDrive/user_features110.npy')\n",
        "        if features==229:\n",
        "          if ftr=='test':\n",
        "            self.item_features=np.transpose(tst).astype(float)\n",
        "          else:\n",
        "            # self.item_features=np.transpose(course_ftr).astype(float)\n",
        "            self.item_features=np.load('/content/drive/MyDrive/item_features_test7.npy')\n",
        "        else:\n",
        "          pca = PCA(n_components=features)\n",
        "          if ftr=='test':\n",
        "            self.item_features=np.transpose(pca.fit_transform(tst)).astype(float)\n",
        "          else:\n",
        "            self.item_features=np.transpose(pca.fit_transform(course_ftr)).astype(float)\n",
        "            # self.item_features=np.load('/content/drive/MyDrive/item_features110.npy')\n",
        "\n",
        "    def MSE(self):\n",
        "        # print(self.user_features.shape,self.item_features.shape)\n",
        "        matrix_product=np.matmul(self.user_features,self.item_features)\n",
        "        # print(matrix_product.shape)\n",
        "        z=0\n",
        "        for i in range(self.data.shape[0]):\n",
        "          for j in range(self.data.shape[1]):\n",
        "            if self.data[i][j]==1:\n",
        "              z+=(self.data[i][j]-matrix_product[i][j])**2\n",
        "        return [np.sum((matrix_product-self.data)**2),z]\n",
        "    \n",
        "    def single_gradient(self,user_row,item_col,wrt_user_idx=None,wrt_item_idx=None):\n",
        "        \n",
        "        u_row=self.user_features[user_row,:]\n",
        "        i_col=self.item_features[:,item_col]\n",
        "        ui_rating=float(self.data[user_row,item_col])\n",
        "        # print(u_row.shape,i_col.shape)\n",
        "        prediction=float(np.dot(u_row,i_col))\n",
        "        \n",
        "        if wrt_user_idx!=None:\n",
        "            row_elem=float(i_col[wrt_user_idx])\n",
        "            gradient=2*(ui_rating - prediction)*row_elem*max(ui_rating*10,0.01)\n",
        "        else:\n",
        "            col_elem=float(u_row[wrt_item_idx])\n",
        "            gradient=2*(ui_rating - prediction)*col_elem*max(ui_rating*10,0.01)\n",
        "        return gradient\n",
        "    \n",
        "    def user_features_gradient(self,user_row,wrt_user_idx):\n",
        "        summation=0\n",
        "        for col in range(self.item_count):\n",
        "            summation += self.single_gradient(user_row=user_row,item_col=col,wrt_user_idx=wrt_user_idx)\n",
        "        return summation/self.item_count\n",
        "\n",
        "\n",
        "        # gradient=\n",
        "\n",
        "    \n",
        "    def item_features_gradient(self,item_col,wrt_item_idx):\n",
        "        summation=0\n",
        "        for row in range(self.user_count):\n",
        "            summation += self.single_gradient(user_row=row,item_col=item_col,wrt_item_idx=wrt_item_idx)\n",
        "        return summation/self.user_count\n",
        "    \n",
        "    def update_user_features(self,lr):\n",
        "        \n",
        "        for i in range(self.user_count):\n",
        "            for j in range(self.features):\n",
        "                self.user_features[i,j]+= lr*self.user_features_gradient(user_row=i,wrt_user_idx=j)\n",
        "\n",
        "        # pred=np.dot(self.user_features,self.item_features)\n",
        "        # y_upd=copy.deepcopy(self.data_copy)\n",
        "        # for i in range(self.data.shape[0]):\n",
        "        #   for j in range(self.data.shape[1]):\n",
        "        #     if y_upd[i][j]==0:\n",
        "        #       # print(y_upd[i][j])\n",
        "        #       y_upd[i][j]=(1.1)*pred[i][j]\n",
        "        #       # print(y_upd[i][j])\n",
        "        # # y_upd=np.asarray(y_upd)\n",
        "        # self.user_features=np.dot(np.dot(y_upd,np.transpose(self.item_features)),np.linalg.pinv(np.dot(self.item_features,np.transpose(self.item_features))))\n",
        "\n",
        "\n",
        "\n",
        "        \n",
        "    \n",
        "    def update_item_features(self,lr):\n",
        "        \n",
        "        for i in range(self.features):\n",
        "            for j in range(self.item_count):\n",
        "                self.item_features[i,j]+= lr*self.item_features_gradient(item_col=j,wrt_item_idx=i)\n",
        "\n",
        "        # pred=np.dot(self.user_features,self.item_features)\n",
        "        # y_upd=copy.deepcopy(self.data_copy)\n",
        "        # for i in range(self.data.shape[0]):\n",
        "        #   for j in range(self.data.shape[1]):\n",
        "        #     if y_upd[i][j]==0:\n",
        "        #       # print(y_upd[i][j])\n",
        "        #       y_upd[i][j]=(1.1)*pred[i][j]\n",
        "        #       # print(y_upd[i][j])\n",
        "        # # y_upd=np.asarray(y_upd)\n",
        "        # self.item_features=np.dot(np.linalg.pinv(np.dot(np.transpose(self.user_features),self.user_features)),np.dot(np.transpose(self.user_features),y_upd))\n",
        "    \n",
        "    def train_model(self,lr=0.1,iterations=1000):\n",
        "        \n",
        "        for i in range(iterations):\n",
        "          if i%1==0:\n",
        "            print(i,'x',self.MSE())\n",
        "          self.update_item_features(lr=lr)\n",
        "          self.update_user_features(lr=lr)\n",
        "          \n",
        "          # if i>60 and i%20==0:\n",
        "          np.save('user_features_test'+str(i%50),self.user_features)\n",
        "          np.save('item_features_test'+str(i%50),self.item_features)\n",
        "              # !cp 'user_features'+str(i)+'.npy' /content/drive/MyDrive\n",
        "              # !cp 'item_features'+str(i)+'.npy' /content/drive/MyDrive\n",
        "              # !cp '/content/user_features'+str(i)+'.npy' /content/drive/MyDrive\n",
        "              # !cp '/content/item_features'+str(i)+'.npy' /content/drive/MyDrive\n",
        "          \n",
        "    \n",
        "            \n",
        "        "
      ],
      "execution_count": null,
      "outputs": []
    },
    {
      "cell_type": "code",
      "metadata": {
        "id": "npA6TxEFxcZR"
      },
      "source": [
        "!cp 'user_ftr_final.npy' /content/drive/MyDrive\n",
        "!cp 'item_ftr_final.npy' /content/drive/MyDrive"
      ],
      "execution_count": null,
      "outputs": []
    },
    {
      "cell_type": "code",
      "metadata": {
        "id": "jYD63Bn-u4Xg"
      },
      "source": [
        "z='course'\n",
        "model=matrix_factorisation(np.asarray(user_course_matrix),np.asarray(user_course_matrix),229,z)"
      ],
      "execution_count": null,
      "outputs": []
    },
    {
      "cell_type": "code",
      "metadata": {
        "id": "Zcw5lIvgu4Xi"
      },
      "source": [
        "import copy\n",
        "model.train_model(lr=1)"
      ],
      "execution_count": null,
      "outputs": []
    },
    {
      "cell_type": "code",
      "metadata": {
        "id": "UPUXaoXtya2z"
      },
      "source": [
        "ans_mat_csr=np.dot(np.load('/content/drive/MyDrive/user_ftr_final.npy'),np.load('/content/drive/MyDrive/item_ftr_final.npy'))"
      ],
      "execution_count": null,
      "outputs": []
    },
    {
      "cell_type": "code",
      "metadata": {
        "id": "Xg5gbhzczBzF",
        "colab": {
          "base_uri": "https://localhost:8080/"
        },
        "outputId": "0b50c6f7-ec1f-4047-d48a-753907bd4564"
      },
      "source": [
        "ans_mat_csr.shape"
      ],
      "execution_count": null,
      "outputs": [
        {
          "output_type": "execute_result",
          "data": {
            "text/plain": [
              "(10000, 90)"
            ]
          },
          "metadata": {},
          "execution_count": 46
        }
      ]
    },
    {
      "cell_type": "code",
      "metadata": {
        "id": "e8C800qZ73Gi",
        "colab": {
          "base_uri": "https://localhost:8080/"
        },
        "outputId": "e2b22f11-7c47-4063-ef75-8252f63abe50"
      },
      "source": [
        "z=ans_mat_csr[0,:]\n",
        "z.shape"
      ],
      "execution_count": null,
      "outputs": [
        {
          "output_type": "execute_result",
          "data": {
            "text/plain": [
              "(90,)"
            ]
          },
          "metadata": {},
          "execution_count": 47
        }
      ]
    },
    {
      "cell_type": "code",
      "metadata": {
        "id": "_ZmDellK8GEH"
      },
      "source": [
        "z=list(z)\n",
        "for i in range(len(z)):\n",
        "  z[i]=[z[i],i]\n",
        "z.sort(reverse=True)\n"
      ],
      "execution_count": null,
      "outputs": []
    },
    {
      "cell_type": "code",
      "metadata": {
        "id": "E55gwuGw8WCV",
        "colab": {
          "base_uri": "https://localhost:8080/"
        },
        "outputId": "62a8cdd4-a183-4f93-fddf-dc424f353008"
      },
      "source": [
        "print('top 5 courses for studetnt having student id',r_dic_std_lst[0])\n",
        "for j in range(5):\n",
        "  print(r_dic_cls_lst[z[j][1]],'score',z[j][0])"
      ],
      "execution_count": null,
      "outputs": [
        {
          "output_type": "stream",
          "name": "stdout",
          "text": [
            "top 5 courses for studetnt having student id 0002d217de5e59b813099b6090b0f010\n",
            "efb1474cc7b29b9c06669a01331015e0 score 1.5469562156396446\n",
            "aa12fb8ead3d56b6cb10a92f252e4706 score 0.890586675618275\n",
            "d3ec8653363f43482576bf077a54abe0 score 0.853193256752155\n",
            "2f4dde5018d717540cc7b9bb7dd11d5a score 0.8470306611680997\n",
            "83d87dd8d42dd3215d61ef4096558464 score 0.839768976865202\n"
          ]
        }
      ]
    },
    {
      "cell_type": "code",
      "source": [
        "usr[0][1]"
      ],
      "metadata": {
        "colab": {
          "base_uri": "https://localhost:8080/"
        },
        "id": "8LfHTV9EC2lj",
        "outputId": "2260bc24-a3e8-4a3e-8484-ca2e823d2654"
      },
      "execution_count": null,
      "outputs": [
        {
          "output_type": "execute_result",
          "data": {
            "text/plain": [
              "0"
            ]
          },
          "metadata": {},
          "execution_count": 52
        }
      ]
    },
    {
      "cell_type": "code",
      "source": [
        "ans_mat_csr=np.dot(np.load('/content/drive/MyDrive/user_ftr_final.npy'),np.load('/content/drive/MyDrive/item_ftr_final.npy'))\n",
        "def analyze_colbf(idx):\n",
        "  print('groups user already associated with')\n",
        "  gp_enrld=[]\n",
        "  for i in range(usr.shape[1]):\n",
        "    if usr[idx][i]==1:\n",
        "      gp_enrld.append(i)\n",
        "  for i in gp_enrld:\n",
        "      gp_id=r_dic_tgt_gp_sgp[i]\n",
        "      if gp_id in tgt_grp:\n",
        "        print(tgt_grp[gp_id])\n",
        "      else:\n",
        "        print(tgt_sgp[gp_id])\n",
        "  y=list(usr[idx,:])\n",
        "\n",
        "  z=list(ans_mat_csr[idx,:])\n",
        "  for i in range(len(z)):\n",
        "    z[i]=[z[i],i]\n",
        "  z.sort(reverse=True)\n",
        "  print('top 5 courses for studetnt having student id',r_dic_std_lst[idx])\n",
        "  t=0\n",
        "  j=0\n",
        "  while(t<5 and j<len(z)):\n",
        "    if user_course_matrix[idx][z[j][1]]==1:\n",
        "      j+=1\n",
        "      continue\n",
        "    print(r_dic_cls_lst[z[j][1]],'score',z[j][0])\n",
        "    print('details')\n",
        "    avl_gps=[]\n",
        "    for i in range(course_ftr.shape[1]):\n",
        "      if course_ftr[z[j][1]][i]==1:\n",
        "        avl_gps.append(i)\n",
        "    for i in avl_gps:\n",
        "      gp_id=r_dic_tgt_gp_sgp[i]\n",
        "      if gp_id in tgt_grp:\n",
        "        print(tgt_grp[gp_id])\n",
        "      else:\n",
        "        print(tgt_sgp[gp_id])\n",
        "    t+=1\n",
        "    j+=1\n",
        "    "
      ],
      "metadata": {
        "id": "ThsbEMPH9y1K"
      },
      "execution_count": null,
      "outputs": []
    },
    {
      "cell_type": "code",
      "source": [
        "analyze_colbf(5000)"
      ],
      "metadata": {
        "colab": {
          "base_uri": "https://localhost:8080/"
        },
        "id": "bOgnn1W4C_PX",
        "outputId": "151ff1c7-3c97-4fb9-8d49-b69ce11a8816"
      },
      "execution_count": null,
      "outputs": [
        {
          "output_type": "stream",
          "name": "stdout",
          "text": [
            "groups user already associated with\n",
            "[{'language': 'English', 'value': 'SSC MTS'}, {'language': 'Hindi', 'value': ''}]\n",
            "[{'language': 'English', 'value': 'SSC Exams'}, {'language': 'Hindi', 'value': ''}]\n",
            "top 5 courses for studetnt having student id 807abc753fd9d5fd20282aad3389a45f\n",
            "8dbdf3dc81630ef31b50e7846d1bdb9e score 1.517145130248537\n",
            "details\n",
            "[{'language': 'English', 'value': 'SSC MTS'}, {'language': 'Hindi', 'value': ''}]\n",
            "[{'language': 'English', 'value': 'SSC Selection Post'}, {'language': 'Hindi', 'value': ''}]\n",
            "[{'language': 'English', 'value': 'RRC Group D'}, {'language': 'Hindi', 'value': ''}]\n",
            "[{'language': 'English', 'value': 'SSC CHSL'}, {'language': 'Hindi', 'value': ''}]\n",
            "[{'language': 'English', 'value': 'SSC CGL'}, {'language': 'Hindi', 'value': ''}]\n",
            "[{'language': 'English', 'value': 'RRB NTPC'}, {'language': 'Hindi', 'value': ''}]\n",
            "[{'language': 'English', 'value': 'SSC Exams'}, {'language': 'Hindi', 'value': ''}]\n",
            "8c87c97dfc97b6a69995a93ae5763413 score 1.4865124477539622\n",
            "details\n",
            "[{'language': 'English', 'value': 'SSC MTS'}, {'language': 'Hindi', 'value': ''}]\n",
            "[{'language': 'English', 'value': 'Railways Exams'}, {'language': 'Hindi', 'value': ''}]\n",
            "[{'language': 'English', 'value': 'RRC Group D'}, {'language': 'Hindi', 'value': ''}]\n",
            "[{'language': 'English', 'value': 'SSC CHSL'}, {'language': 'Hindi', 'value': ''}]\n",
            "[{'language': 'English', 'value': 'SSC CGL'}, {'language': 'Hindi', 'value': ''}]\n",
            "[{'language': 'English', 'value': 'RRB NTPC'}, {'language': 'Hindi', 'value': ''}]\n",
            "[{'language': 'English', 'value': 'SSC Exams'}, {'language': 'Hindi', 'value': ''}]\n",
            "577e5a0e808d8cba932172b7796e3d08 score 1.455592331352638\n",
            "details\n",
            "[{'language': 'English', 'value': 'RRB ALP'}]\n",
            "[{'language': 'English', 'value': 'SSC MTS'}, {'language': 'Hindi', 'value': ''}]\n",
            "[{'language': 'English', 'value': 'Railways Exams'}, {'language': 'Hindi', 'value': ''}]\n",
            "[{'language': 'English', 'value': 'SSC CHSL'}, {'language': 'Hindi', 'value': ''}]\n",
            "[{'language': 'English', 'value': 'SSC CGL'}, {'language': 'Hindi', 'value': ''}]\n",
            "[{'language': 'English', 'value': 'RRB NTPC'}, {'language': 'Hindi', 'value': ''}]\n",
            "[{'language': 'English', 'value': 'SSC CPO'}, {'language': 'Hindi', 'value': ''}]\n",
            "[{'language': 'English', 'value': 'RRB JE'}]\n",
            "[{'language': 'English', 'value': 'SSC JHT'}, {'language': 'Hindi', 'value': ''}]\n",
            "[{'language': 'English', 'value': 'SSC Exams'}, {'language': 'Hindi', 'value': ''}]\n",
            "efb1474cc7b29b9c06669a01331015e0 score 1.4208442977591653\n",
            "details\n",
            "[{'language': 'English', 'value': 'Delhi Police Constable'}, {'language': 'Hindi', 'value': ''}]\n",
            "[{'language': 'English', 'value': 'SSC MTS'}, {'language': 'Hindi', 'value': ''}]\n",
            "[{'language': 'English', 'value': 'Railways Exams'}, {'language': 'Hindi', 'value': ''}]\n",
            "[{'language': 'English', 'value': 'RRC Group D'}, {'language': 'Hindi', 'value': ''}]\n",
            "[{'language': 'English', 'value': 'SSC CHSL'}, {'language': 'Hindi', 'value': ''}]\n",
            "[{'language': 'English', 'value': 'SSC CGL'}, {'language': 'Hindi', 'value': ''}]\n",
            "[{'language': 'English', 'value': 'RRB NTPC'}, {'language': 'Hindi', 'value': ''}]\n",
            "[{'language': 'English', 'value': 'SSC Exams'}, {'language': 'Hindi', 'value': ''}]\n",
            "[{'language': 'English', 'value': 'Bihar Police SI'}, {'language': 'Hindi', 'value': ''}]\n",
            "5425e4a2b9250f9098b947796a494c5c score 0.8205995303509955\n",
            "details\n",
            "[{'language': 'English', 'value': 'SSC Selection Post'}, {'language': 'Hindi', 'value': ''}]\n",
            "[{'language': 'English', 'value': 'SSC Exams'}, {'language': 'Hindi', 'value': ''}]\n"
          ]
        }
      ]
    },
    {
      "cell_type": "code",
      "source": [
        "a=np.asarray([[1,2,3,4,5]])\n",
        "vec=np.asarray([[0,1,0,1,0],[0,2,3,1,0],[0,2,3,0,-1]])\n",
        "z=np.multiply(a,vec)\n",
        "print(z.shape,z)\n",
        "list(z.sum(axis=1))"
      ],
      "metadata": {
        "id": "FHpCLQfVWZab"
      },
      "execution_count": null,
      "outputs": []
    },
    {
      "cell_type": "code",
      "source": [
        "import heapq\n",
        "def content_based(user_idx,no_of_pred):\n",
        "  usr_id=r_dic_std_lst[user_idx]\n",
        "  user_vect=usr[user_idx].reshape([1,229])\n",
        "  dot_prod=list((np.multiply(user_vect,course_ftr)).sum(axis=1))\n",
        "  for i in range(len(dot_prod)):\n",
        "    dot_prod[i]=[dot_prod[i],i]\n",
        "  queue=[]\n",
        "  for i in dot_prod:\n",
        "    if r_dic_cls_lst[i[1]]  not in  std_to_crs[usr_id]:\n",
        "      heapq.heappush(queue,i)\n",
        "    if len(queue)>no_of_pred:\n",
        "      heapq.heappop(queue)\n",
        "  queue.sort()\n",
        "  for i in queue[::-1]:\n",
        "    print(r_dic_cls_lst[i[1]],'score',i[0])\n",
        "    # print(r_dic_cls_lst[z[j][1]],'score',z[j][0])\n",
        "    print('details')\n",
        "    avl_gps=[]\n",
        "    for j in range(course_ftr.shape[1]):\n",
        "      if course_ftr[i[1]][j]==1:\n",
        "        avl_gps.append(j)\n",
        "    for j in avl_gps:\n",
        "      gp_id=r_dic_tgt_gp_sgp[j]\n",
        "      if gp_id in tgt_grp:\n",
        "        print(tgt_grp[gp_id])\n",
        "      else:\n",
        "        print(tgt_sgp[gp_id])\n",
        "\n",
        "\n",
        "\n",
        "\n"
      ],
      "metadata": {
        "id": "_nV5-J2dWaQr"
      },
      "execution_count": null,
      "outputs": []
    },
    {
      "cell_type": "code",
      "source": [
        "content_based(user_idx=5000,no_of_pred=5)#efb1474cc7b29b9c06669a01331015e0 "
      ],
      "metadata": {
        "colab": {
          "base_uri": "https://localhost:8080/"
        },
        "id": "BpO7iyEOu3xy",
        "outputId": "cdf16470-3473-4a9e-9488-924d189a0cdc"
      },
      "execution_count": null,
      "outputs": [
        {
          "output_type": "stream",
          "name": "stdout",
          "text": [
            "efb1474cc7b29b9c06669a01331015e0 score 2\n",
            "details\n",
            "[{'language': 'English', 'value': 'Delhi Police Constable'}, {'language': 'Hindi', 'value': ''}]\n",
            "[{'language': 'English', 'value': 'SSC MTS'}, {'language': 'Hindi', 'value': ''}]\n",
            "[{'language': 'English', 'value': 'Railways Exams'}, {'language': 'Hindi', 'value': ''}]\n",
            "[{'language': 'English', 'value': 'RRC Group D'}, {'language': 'Hindi', 'value': ''}]\n",
            "[{'language': 'English', 'value': 'SSC CHSL'}, {'language': 'Hindi', 'value': ''}]\n",
            "[{'language': 'English', 'value': 'SSC CGL'}, {'language': 'Hindi', 'value': ''}]\n",
            "[{'language': 'English', 'value': 'RRB NTPC'}, {'language': 'Hindi', 'value': ''}]\n",
            "[{'language': 'English', 'value': 'SSC Exams'}, {'language': 'Hindi', 'value': ''}]\n",
            "[{'language': 'English', 'value': 'Bihar Police SI'}, {'language': 'Hindi', 'value': ''}]\n",
            "8dbdf3dc81630ef31b50e7846d1bdb9e score 2\n",
            "details\n",
            "[{'language': 'English', 'value': 'SSC MTS'}, {'language': 'Hindi', 'value': ''}]\n",
            "[{'language': 'English', 'value': 'SSC Selection Post'}, {'language': 'Hindi', 'value': ''}]\n",
            "[{'language': 'English', 'value': 'RRC Group D'}, {'language': 'Hindi', 'value': ''}]\n",
            "[{'language': 'English', 'value': 'SSC CHSL'}, {'language': 'Hindi', 'value': ''}]\n",
            "[{'language': 'English', 'value': 'SSC CGL'}, {'language': 'Hindi', 'value': ''}]\n",
            "[{'language': 'English', 'value': 'RRB NTPC'}, {'language': 'Hindi', 'value': ''}]\n",
            "[{'language': 'English', 'value': 'SSC Exams'}, {'language': 'Hindi', 'value': ''}]\n",
            "8c87c97dfc97b6a69995a93ae5763413 score 2\n",
            "details\n",
            "[{'language': 'English', 'value': 'SSC MTS'}, {'language': 'Hindi', 'value': ''}]\n",
            "[{'language': 'English', 'value': 'Railways Exams'}, {'language': 'Hindi', 'value': ''}]\n",
            "[{'language': 'English', 'value': 'RRC Group D'}, {'language': 'Hindi', 'value': ''}]\n",
            "[{'language': 'English', 'value': 'SSC CHSL'}, {'language': 'Hindi', 'value': ''}]\n",
            "[{'language': 'English', 'value': 'SSC CGL'}, {'language': 'Hindi', 'value': ''}]\n",
            "[{'language': 'English', 'value': 'RRB NTPC'}, {'language': 'Hindi', 'value': ''}]\n",
            "[{'language': 'English', 'value': 'SSC Exams'}, {'language': 'Hindi', 'value': ''}]\n",
            "577e5a0e808d8cba932172b7796e3d08 score 2\n",
            "details\n",
            "[{'language': 'English', 'value': 'RRB ALP'}]\n",
            "[{'language': 'English', 'value': 'SSC MTS'}, {'language': 'Hindi', 'value': ''}]\n",
            "[{'language': 'English', 'value': 'Railways Exams'}, {'language': 'Hindi', 'value': ''}]\n",
            "[{'language': 'English', 'value': 'SSC CHSL'}, {'language': 'Hindi', 'value': ''}]\n",
            "[{'language': 'English', 'value': 'SSC CGL'}, {'language': 'Hindi', 'value': ''}]\n",
            "[{'language': 'English', 'value': 'RRB NTPC'}, {'language': 'Hindi', 'value': ''}]\n",
            "[{'language': 'English', 'value': 'SSC CPO'}, {'language': 'Hindi', 'value': ''}]\n",
            "[{'language': 'English', 'value': 'RRB JE'}]\n",
            "[{'language': 'English', 'value': 'SSC JHT'}, {'language': 'Hindi', 'value': ''}]\n",
            "[{'language': 'English', 'value': 'SSC Exams'}, {'language': 'Hindi', 'value': ''}]\n",
            "ff9317caee0d6c22fc730a881f0fe1b2 score 1\n",
            "details\n",
            "[{'language': 'English', 'value': 'RRC Group D'}, {'language': 'Hindi', 'value': ''}]\n",
            "[{'language': 'English', 'value': 'SSC CHSL'}, {'language': 'Hindi', 'value': ''}]\n",
            "[{'language': 'English', 'value': 'SSC CGL'}, {'language': 'Hindi', 'value': ''}]\n",
            "[{'language': 'English', 'value': 'RRB NTPC'}, {'language': 'Hindi', 'value': ''}]\n",
            "[{'language': 'English', 'value': 'SSC CPO'}, {'language': 'Hindi', 'value': ''}]\n",
            "[{'language': 'English', 'value': 'SSC Exams'}, {'language': 'Hindi', 'value': ''}]\n"
          ]
        }
      ]
    },
    {
      "cell_type": "code",
      "source": [
        ""
      ],
      "metadata": {
        "id": "a_zohCLLSKza"
      },
      "execution_count": null,
      "outputs": []
    }
  ]
}